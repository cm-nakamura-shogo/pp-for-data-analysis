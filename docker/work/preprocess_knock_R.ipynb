{
 "cells": [
  {
   "cell_type": "markdown",
   "metadata": {},
   "source": [
    "# 前処理大全 R版"
   ]
  },
  {
   "cell_type": "markdown",
   "metadata": {
    "tags": []
   },
   "source": [
    "## はじめに\n",
    "- 初めに以下のセルを実行してください\n",
    "- 必要なライブラリのインポートとデータベース（PostgreSQL）からのデータ読み込みを行います\n",
    "- 利用が想定されるライブラリは以下セルでインポートしています\n",
    "- その他利用したいライブラリがあればinstall.packages()で適宜インストールしてください\n",
    "- 名前、住所等はダミーデータであり、実在するものではありません"
   ]
  },
  {
   "cell_type": "code",
   "execution_count": 1,
   "metadata": {
    "collapsed": true,
    "jupyter": {
     "outputs_hidden": true
    },
    "tags": []
   },
   "outputs": [
    {
     "name": "stderr",
     "output_type": "stream",
     "text": [
      "Loading required package: RPostgreSQL\n",
      "\n",
      "Loading required package: DBI\n",
      "\n",
      "Loading required package: tidyr\n",
      "\n",
      "Loading required package: dplyr\n",
      "\n",
      "\n",
      "Attaching package: ‘dplyr’\n",
      "\n",
      "\n",
      "The following objects are masked from ‘package:stats’:\n",
      "\n",
      "    filter, lag\n",
      "\n",
      "\n",
      "The following objects are masked from ‘package:base’:\n",
      "\n",
      "    intersect, setdiff, setequal, union\n",
      "\n",
      "\n",
      "Loading required package: stringr\n",
      "\n",
      "Loading required package: caret\n",
      "\n",
      "Loading required package: ggplot2\n",
      "\n",
      "Loading required package: lattice\n",
      "\n",
      "Loading required package: lubridate\n",
      "\n",
      "\n",
      "Attaching package: ‘lubridate’\n",
      "\n",
      "\n",
      "The following objects are masked from ‘package:base’:\n",
      "\n",
      "    date, intersect, setdiff, union\n",
      "\n",
      "\n",
      "Loading required package: rsample\n",
      "\n",
      "Loading required package: recipes\n",
      "\n",
      "\n",
      "Attaching package: ‘recipes’\n",
      "\n",
      "\n",
      "The following object is masked from ‘package:stringr’:\n",
      "\n",
      "    fixed\n",
      "\n",
      "\n",
      "The following object is masked from ‘package:stats’:\n",
      "\n",
      "    step\n",
      "\n",
      "\n",
      "Loading required package: themis\n",
      "\n",
      "Registered S3 methods overwritten by 'themis':\n",
      "  method                  from   \n",
      "  bake.step_downsample    recipes\n",
      "  bake.step_upsample      recipes\n",
      "  prep.step_downsample    recipes\n",
      "  prep.step_upsample      recipes\n",
      "  tidy.step_downsample    recipes\n",
      "  tidy.step_upsample      recipes\n",
      "  tunable.step_downsample recipes\n",
      "  tunable.step_upsample   recipes\n",
      "\n",
      "\n",
      "Attaching package: ‘themis’\n",
      "\n",
      "\n",
      "The following objects are masked from ‘package:recipes’:\n",
      "\n",
      "    step_downsample, step_upsample\n",
      "\n",
      "\n"
     ]
    }
   ],
   "source": [
    "require(\"RPostgreSQL\")\n",
    "require(\"tidyr\")\n",
    "require(\"dplyr\")\n",
    "require(\"stringr\")\n",
    "require(\"caret\")\n",
    "require(\"lubridate\")\n",
    "require(\"rsample\")\n",
    "require(\"recipes\")\n",
    "require(\"themis\")\n",
    "\n",
    "host <- \"db\"\n",
    "port <- Sys.getenv()[\"PG_PORT\"]\n",
    "dbname <- Sys.getenv()[\"PG_DATABASE\"]\n",
    "user <- Sys.getenv()[\"PG_USER\"]\n",
    "password <- Sys.getenv()[\"PG_PASSWORD\"]\n",
    "\n",
    "con <- dbConnect(PostgreSQL(), host=host, port=port, dbname=dbname, user=user, password=password)\n",
    "df_customer <- dbGetQuery(con,\"SELECT * FROM customer_tb\")\n",
    "df_hotel <- dbGetQuery(con,\"SELECT * FROM hotel_tb\")\n",
    "df_reserve <- dbGetQuery(con,\"SELECT * FROM reserve_tb\")"
   ]
  },
  {
   "cell_type": "markdown",
   "metadata": {},
   "source": [
    "# 演習問題"
   ]
  },
  {
   "cell_type": "markdown",
   "metadata": {},
   "source": [
    "---\n",
    "> サンプル"
   ]
  },
  {
   "cell_type": "code",
   "execution_count": 2,
   "metadata": {},
   "outputs": [
    {
     "data": {
      "text/html": [
       "<table class=\"dataframe\">\n",
       "<caption>A data.frame: 10 × 9</caption>\n",
       "<thead>\n",
       "\t<tr><th></th><th scope=col>reserve_id</th><th scope=col>hotel_id</th><th scope=col>customer_id</th><th scope=col>reserve_datetime</th><th scope=col>checkin_date</th><th scope=col>checkin_time</th><th scope=col>checkout_date</th><th scope=col>people_num</th><th scope=col>total_price</th></tr>\n",
       "\t<tr><th></th><th scope=col>&lt;chr&gt;</th><th scope=col>&lt;chr&gt;</th><th scope=col>&lt;chr&gt;</th><th scope=col>&lt;dttm&gt;</th><th scope=col>&lt;date&gt;</th><th scope=col>&lt;chr&gt;</th><th scope=col>&lt;date&gt;</th><th scope=col>&lt;int&gt;</th><th scope=col>&lt;int&gt;</th></tr>\n",
       "</thead>\n",
       "<tbody>\n",
       "\t<tr><th scope=row>1</th><td>r1 </td><td>h_75 </td><td>c_1</td><td>2016-03-06 13:09:42</td><td>2016-03-26</td><td>10:00:00</td><td>2016-03-29</td><td>4</td><td> 97200</td></tr>\n",
       "\t<tr><th scope=row>2</th><td>r2 </td><td>h_219</td><td>c_1</td><td>2016-07-16 23:39:55</td><td>2016-07-20</td><td>11:30:00</td><td>2016-07-21</td><td>2</td><td> 20600</td></tr>\n",
       "\t<tr><th scope=row>3</th><td>r3 </td><td>h_179</td><td>c_1</td><td>2016-09-24 10:03:17</td><td>2016-10-19</td><td>09:00:00</td><td>2016-10-22</td><td>2</td><td> 33600</td></tr>\n",
       "\t<tr><th scope=row>4</th><td>r4 </td><td>h_214</td><td>c_1</td><td>2017-03-08 03:20:10</td><td>2017-03-29</td><td>11:00:00</td><td>2017-03-30</td><td>4</td><td>194400</td></tr>\n",
       "\t<tr><th scope=row>5</th><td>r5 </td><td>h_16 </td><td>c_1</td><td>2017-09-05 19:50:37</td><td>2017-09-22</td><td>10:30:00</td><td>2017-09-23</td><td>3</td><td> 68100</td></tr>\n",
       "\t<tr><th scope=row>6</th><td>r6 </td><td>h_241</td><td>c_1</td><td>2017-11-27 18:47:05</td><td>2017-12-04</td><td>12:00:00</td><td>2017-12-06</td><td>3</td><td> 36000</td></tr>\n",
       "\t<tr><th scope=row>7</th><td>r7 </td><td>h_256</td><td>c_1</td><td>2017-12-29 10:38:36</td><td>2018-01-25</td><td>10:30:00</td><td>2018-01-28</td><td>1</td><td>103500</td></tr>\n",
       "\t<tr><th scope=row>8</th><td>r8 </td><td>h_241</td><td>c_1</td><td>2018-05-26 08:42:51</td><td>2018-06-08</td><td>10:00:00</td><td>2018-06-09</td><td>1</td><td>  6000</td></tr>\n",
       "\t<tr><th scope=row>9</th><td>r9 </td><td>h_217</td><td>c_2</td><td>2016-03-05 13:31:06</td><td>2016-03-25</td><td>09:30:00</td><td>2016-03-27</td><td>3</td><td> 68400</td></tr>\n",
       "\t<tr><th scope=row>10</th><td>r10</td><td>h_240</td><td>c_2</td><td>2016-06-25 09:12:22</td><td>2016-07-14</td><td>11:00:00</td><td>2016-07-17</td><td>4</td><td>320400</td></tr>\n",
       "</tbody>\n",
       "</table>\n"
      ],
      "text/latex": [
       "A data.frame: 10 × 9\n",
       "\\begin{tabular}{r|lllllllll}\n",
       "  & reserve\\_id & hotel\\_id & customer\\_id & reserve\\_datetime & checkin\\_date & checkin\\_time & checkout\\_date & people\\_num & total\\_price\\\\\n",
       "  & <chr> & <chr> & <chr> & <dttm> & <date> & <chr> & <date> & <int> & <int>\\\\\n",
       "\\hline\n",
       "\t1 & r1  & h\\_75  & c\\_1 & 2016-03-06 13:09:42 & 2016-03-26 & 10:00:00 & 2016-03-29 & 4 &  97200\\\\\n",
       "\t2 & r2  & h\\_219 & c\\_1 & 2016-07-16 23:39:55 & 2016-07-20 & 11:30:00 & 2016-07-21 & 2 &  20600\\\\\n",
       "\t3 & r3  & h\\_179 & c\\_1 & 2016-09-24 10:03:17 & 2016-10-19 & 09:00:00 & 2016-10-22 & 2 &  33600\\\\\n",
       "\t4 & r4  & h\\_214 & c\\_1 & 2017-03-08 03:20:10 & 2017-03-29 & 11:00:00 & 2017-03-30 & 4 & 194400\\\\\n",
       "\t5 & r5  & h\\_16  & c\\_1 & 2017-09-05 19:50:37 & 2017-09-22 & 10:30:00 & 2017-09-23 & 3 &  68100\\\\\n",
       "\t6 & r6  & h\\_241 & c\\_1 & 2017-11-27 18:47:05 & 2017-12-04 & 12:00:00 & 2017-12-06 & 3 &  36000\\\\\n",
       "\t7 & r7  & h\\_256 & c\\_1 & 2017-12-29 10:38:36 & 2018-01-25 & 10:30:00 & 2018-01-28 & 1 & 103500\\\\\n",
       "\t8 & r8  & h\\_241 & c\\_1 & 2018-05-26 08:42:51 & 2018-06-08 & 10:00:00 & 2018-06-09 & 1 &   6000\\\\\n",
       "\t9 & r9  & h\\_217 & c\\_2 & 2016-03-05 13:31:06 & 2016-03-25 & 09:30:00 & 2016-03-27 & 3 &  68400\\\\\n",
       "\t10 & r10 & h\\_240 & c\\_2 & 2016-06-25 09:12:22 & 2016-07-14 & 11:00:00 & 2016-07-17 & 4 & 320400\\\\\n",
       "\\end{tabular}\n"
      ],
      "text/markdown": [
       "\n",
       "A data.frame: 10 × 9\n",
       "\n",
       "| <!--/--> | reserve_id &lt;chr&gt; | hotel_id &lt;chr&gt; | customer_id &lt;chr&gt; | reserve_datetime &lt;dttm&gt; | checkin_date &lt;date&gt; | checkin_time &lt;chr&gt; | checkout_date &lt;date&gt; | people_num &lt;int&gt; | total_price &lt;int&gt; |\n",
       "|---|---|---|---|---|---|---|---|---|---|\n",
       "| 1 | r1  | h_75  | c_1 | 2016-03-06 13:09:42 | 2016-03-26 | 10:00:00 | 2016-03-29 | 4 |  97200 |\n",
       "| 2 | r2  | h_219 | c_1 | 2016-07-16 23:39:55 | 2016-07-20 | 11:30:00 | 2016-07-21 | 2 |  20600 |\n",
       "| 3 | r3  | h_179 | c_1 | 2016-09-24 10:03:17 | 2016-10-19 | 09:00:00 | 2016-10-22 | 2 |  33600 |\n",
       "| 4 | r4  | h_214 | c_1 | 2017-03-08 03:20:10 | 2017-03-29 | 11:00:00 | 2017-03-30 | 4 | 194400 |\n",
       "| 5 | r5  | h_16  | c_1 | 2017-09-05 19:50:37 | 2017-09-22 | 10:30:00 | 2017-09-23 | 3 |  68100 |\n",
       "| 6 | r6  | h_241 | c_1 | 2017-11-27 18:47:05 | 2017-12-04 | 12:00:00 | 2017-12-06 | 3 |  36000 |\n",
       "| 7 | r7  | h_256 | c_1 | 2017-12-29 10:38:36 | 2018-01-25 | 10:30:00 | 2018-01-28 | 1 | 103500 |\n",
       "| 8 | r8  | h_241 | c_1 | 2018-05-26 08:42:51 | 2018-06-08 | 10:00:00 | 2018-06-09 | 1 |   6000 |\n",
       "| 9 | r9  | h_217 | c_2 | 2016-03-05 13:31:06 | 2016-03-25 | 09:30:00 | 2016-03-27 | 3 |  68400 |\n",
       "| 10 | r10 | h_240 | c_2 | 2016-06-25 09:12:22 | 2016-07-14 | 11:00:00 | 2016-07-17 | 4 | 320400 |\n",
       "\n"
      ],
      "text/plain": [
       "   reserve_id hotel_id customer_id reserve_datetime    checkin_date\n",
       "1  r1         h_75     c_1         2016-03-06 13:09:42 2016-03-26  \n",
       "2  r2         h_219    c_1         2016-07-16 23:39:55 2016-07-20  \n",
       "3  r3         h_179    c_1         2016-09-24 10:03:17 2016-10-19  \n",
       "4  r4         h_214    c_1         2017-03-08 03:20:10 2017-03-29  \n",
       "5  r5         h_16     c_1         2017-09-05 19:50:37 2017-09-22  \n",
       "6  r6         h_241    c_1         2017-11-27 18:47:05 2017-12-04  \n",
       "7  r7         h_256    c_1         2017-12-29 10:38:36 2018-01-25  \n",
       "8  r8         h_241    c_1         2018-05-26 08:42:51 2018-06-08  \n",
       "9  r9         h_217    c_2         2016-03-05 13:31:06 2016-03-25  \n",
       "10 r10        h_240    c_2         2016-06-25 09:12:22 2016-07-14  \n",
       "   checkin_time checkout_date people_num total_price\n",
       "1  10:00:00     2016-03-29    4           97200     \n",
       "2  11:30:00     2016-07-21    2           20600     \n",
       "3  09:00:00     2016-10-22    2           33600     \n",
       "4  11:00:00     2017-03-30    4          194400     \n",
       "5  10:30:00     2017-09-23    3           68100     \n",
       "6  12:00:00     2017-12-06    3           36000     \n",
       "7  10:30:00     2018-01-28    1          103500     \n",
       "8  10:00:00     2018-06-09    1            6000     \n",
       "9  09:30:00     2016-03-27    3           68400     \n",
       "10 11:00:00     2016-07-17    4          320400     "
      ]
     },
     "metadata": {},
     "output_type": "display_data"
    }
   ],
   "source": [
    "head(df_reserve, n = 10)"
   ]
  }
 ],
 "metadata": {
  "kernelspec": {
   "display_name": "R",
   "language": "R",
   "name": "ir"
  },
  "language_info": {
   "codemirror_mode": "r",
   "file_extension": ".r",
   "mimetype": "text/x-r-source",
   "name": "R",
   "pygments_lexer": "r",
   "version": "4.1.1"
  }
 },
 "nbformat": 4,
 "nbformat_minor": 4
}
