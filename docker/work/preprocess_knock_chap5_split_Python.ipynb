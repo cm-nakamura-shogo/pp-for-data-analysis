{
 "cells": [
  {
   "cell_type": "markdown",
   "metadata": {},
   "source": [
    "# 前処理大全 Python版"
   ]
  },
  {
   "cell_type": "markdown",
   "metadata": {},
   "source": [
    "## はじめに\n",
    "- 初めに以下のセルを実行してください\n",
    "- 必要なライブラリのインポートとデータベース（PostgreSQL）からのデータ読み込みを行います\n",
    "- pandas等、利用が想定されるライブラリは以下セルでインポートしています\n",
    "- その他利用したいライブラリがあれば適宜インストールしてください（\"!pip install ライブラリ名\"でインストールも可能）\n",
    "- 処理は複数回に分けても構いません\n",
    "- 名前、住所等はダミーデータであり、実在するものではありません"
   ]
  },
  {
   "cell_type": "code",
   "execution_count": 2,
   "metadata": {},
   "outputs": [],
   "source": [
    "import os\n",
    "import pandas as pd\n",
    "import numpy as np\n",
    "from datetime import datetime, date\n",
    "from dateutil.relativedelta import relativedelta\n",
    "import math\n",
    "import psycopg2\n",
    "from sqlalchemy import create_engine\n",
    "from sklearn import preprocessing\n",
    "from sklearn.impute import SimpleImputer\n",
    "from sklearn.model_selection import train_test_split\n",
    "from sklearn.model_selection import KFold\n",
    "from sklearn.model_selection import StratifiedKFold\n",
    "from sklearn.model_selection import TimeSeriesSplit\n",
    "from imblearn.under_sampling import RandomUnderSampler\n",
    "\n",
    "production_tb = pd.read_csv(\"./data/production.csv\")\n",
    "monthly_index_tb = pd.read_csv(\"./data/monthly_index.csv\")"
   ]
  },
  {
   "cell_type": "markdown",
   "metadata": {},
   "source": [
    "# 演習問題"
   ]
  },
  {
   "cell_type": "code",
   "execution_count": 35,
   "metadata": {},
   "outputs": [
    {
     "data": {
      "text/html": [
       "<div>\n",
       "<style scoped>\n",
       "    .dataframe tbody tr th:only-of-type {\n",
       "        vertical-align: middle;\n",
       "    }\n",
       "\n",
       "    .dataframe tbody tr th {\n",
       "        vertical-align: top;\n",
       "    }\n",
       "\n",
       "    .dataframe thead th {\n",
       "        text-align: right;\n",
       "    }\n",
       "</style>\n",
       "<table border=\"1\" class=\"dataframe\">\n",
       "  <thead>\n",
       "    <tr style=\"text-align: right;\">\n",
       "      <th></th>\n",
       "      <th>type</th>\n",
       "      <th>length</th>\n",
       "      <th>thickness</th>\n",
       "      <th>fault_flg</th>\n",
       "    </tr>\n",
       "  </thead>\n",
       "  <tbody>\n",
       "    <tr>\n",
       "      <th>0</th>\n",
       "      <td>E</td>\n",
       "      <td>274.027383</td>\n",
       "      <td>40.241131</td>\n",
       "      <td>False</td>\n",
       "    </tr>\n",
       "    <tr>\n",
       "      <th>1</th>\n",
       "      <td>D</td>\n",
       "      <td>86.319269</td>\n",
       "      <td>16.906715</td>\n",
       "      <td>False</td>\n",
       "    </tr>\n",
       "    <tr>\n",
       "      <th>2</th>\n",
       "      <td>E</td>\n",
       "      <td>123.940388</td>\n",
       "      <td>1.018462</td>\n",
       "      <td>False</td>\n",
       "    </tr>\n",
       "    <tr>\n",
       "      <th>3</th>\n",
       "      <td>B</td>\n",
       "      <td>175.554886</td>\n",
       "      <td>16.414924</td>\n",
       "      <td>False</td>\n",
       "    </tr>\n",
       "    <tr>\n",
       "      <th>4</th>\n",
       "      <td>B</td>\n",
       "      <td>244.934740</td>\n",
       "      <td>29.061081</td>\n",
       "      <td>False</td>\n",
       "    </tr>\n",
       "  </tbody>\n",
       "</table>\n",
       "</div>"
      ],
      "text/plain": [
       "  type      length  thickness  fault_flg\n",
       "0    E  274.027383  40.241131      False\n",
       "1    D   86.319269  16.906715      False\n",
       "2    E  123.940388   1.018462      False\n",
       "3    B  175.554886  16.414924      False\n",
       "4    B  244.934740  29.061081      False"
      ]
     },
     "execution_count": 35,
     "metadata": {},
     "output_type": "execute_result"
    }
   ],
   "source": [
    "production_tb.head(5)"
   ]
  },
  {
   "cell_type": "code",
   "execution_count": 34,
   "metadata": {},
   "outputs": [
    {
     "data": {
      "text/html": [
       "<div>\n",
       "<style scoped>\n",
       "    .dataframe tbody tr th:only-of-type {\n",
       "        vertical-align: middle;\n",
       "    }\n",
       "\n",
       "    .dataframe tbody tr th {\n",
       "        vertical-align: top;\n",
       "    }\n",
       "\n",
       "    .dataframe thead th {\n",
       "        text-align: right;\n",
       "    }\n",
       "</style>\n",
       "<table border=\"1\" class=\"dataframe\">\n",
       "  <thead>\n",
       "    <tr style=\"text-align: right;\">\n",
       "      <th></th>\n",
       "      <th>year_month</th>\n",
       "      <th>sales_amount</th>\n",
       "      <th>customer_number</th>\n",
       "    </tr>\n",
       "  </thead>\n",
       "  <tbody>\n",
       "    <tr>\n",
       "      <th>0</th>\n",
       "      <td>2010-01</td>\n",
       "      <td>7191240</td>\n",
       "      <td>6885</td>\n",
       "    </tr>\n",
       "    <tr>\n",
       "      <th>1</th>\n",
       "      <td>2010-02</td>\n",
       "      <td>6253663</td>\n",
       "      <td>6824</td>\n",
       "    </tr>\n",
       "    <tr>\n",
       "      <th>2</th>\n",
       "      <td>2010-03</td>\n",
       "      <td>6868320</td>\n",
       "      <td>7834</td>\n",
       "    </tr>\n",
       "    <tr>\n",
       "      <th>3</th>\n",
       "      <td>2010-04</td>\n",
       "      <td>7147388</td>\n",
       "      <td>8552</td>\n",
       "    </tr>\n",
       "    <tr>\n",
       "      <th>4</th>\n",
       "      <td>2010-05</td>\n",
       "      <td>8755929</td>\n",
       "      <td>8171</td>\n",
       "    </tr>\n",
       "  </tbody>\n",
       "</table>\n",
       "</div>"
      ],
      "text/plain": [
       "  year_month  sales_amount  customer_number\n",
       "0    2010-01       7191240             6885\n",
       "1    2010-02       6253663             6824\n",
       "2    2010-03       6868320             7834\n",
       "3    2010-04       7147388             8552\n",
       "4    2010-05       8755929             8171"
      ]
     },
     "execution_count": 34,
     "metadata": {},
     "output_type": "execute_result"
    }
   ],
   "source": [
    "monthly_index_tb.head(5)"
   ]
  },
  {
   "cell_type": "markdown",
   "metadata": {},
   "source": [
    "---\n",
    "> 005_split/01_train_test_split"
   ]
  },
  {
   "cell_type": "code",
   "execution_count": 4,
   "metadata": {},
   "outputs": [],
   "source": [
    "X = production_tb.drop('fault_flg', axis=1)\n",
    "y = production_tb[['fault_flg']]\n",
    "train_X, test_X, train_y, test_y = train_test_split(X, y, test_size=0.2)\n",
    "\n",
    "train_X = train_X.reset_index(drop=True)\n",
    "test_X  = test_X.reset_index(drop=True)\n",
    "train_y = train_y.reset_index(drop=True)\n",
    "test_y  = test_y.reset_index(drop=True)"
   ]
  },
  {
   "cell_type": "markdown",
   "metadata": {},
   "source": [
    "- 知っておいた方がよいオプションとしては\n",
    "  - seedで乱数を固定する\n",
    "  - クラス分類の場合、stratifyにyを与えて、各クラスの数を分割前後で均等に維持する\n",
    "  - あとshuffle=Trueにする。(デフォルトTrueだけど、KFoldがデフォルトFalseなので気持ち悪いんよね)\n",
    "- その他分割時に考慮することとして\n",
    "  - 全部の属性を混ぜた状態で分割しても大丈夫か？\n",
    "  - 例えば、工場という属性が各データに含まれるとして、train/testに同じ工場が含まれても大丈夫か？\n",
    "  - これはタスクのゴール・戦略による\n",
    "    - 新しい工場に対しても頑健にしたいなら、trainとtestはお互い同じ工場を含まない方が良いはず。"
   ]
  },
  {
   "cell_type": "code",
   "execution_count": 5,
   "metadata": {},
   "outputs": [],
   "source": [
    "X = production_tb.drop('fault_flg', axis=1)\n",
    "y = production_tb[['fault_flg']]\n",
    "train_X, test_X, train_y, test_y = train_test_split(X, y, test_size=0.2, random_state=777, shuffle=True, stratify=y)\n",
    "\n",
    "train_X = train_X.reset_index(drop=True)\n",
    "test_X  = test_X.reset_index(drop=True)\n",
    "train_y = train_y.reset_index(drop=True)\n",
    "test_y  = test_y.reset_index(drop=True)"
   ]
  },
  {
   "cell_type": "markdown",
   "metadata": {},
   "source": [
    "- あと、train_test_splitの引数は何個指定してもレコード数が同じであればいい感じに分けてくれる。"
   ]
  },
  {
   "cell_type": "code",
   "execution_count": 6,
   "metadata": {},
   "outputs": [],
   "source": [
    "index = [*range(len(y))]\n",
    "\n",
    "train_X, test_X, train_y, test_y, train_index, test_index = train_test_split(X, y, index, test_size=0.2)\n",
    "\n",
    "train_X = train_X.reset_index(drop=True)\n",
    "test_X  = test_X.reset_index(drop=True)\n",
    "train_y = train_y.reset_index(drop=True)\n",
    "test_y  = test_y.reset_index(drop=True)"
   ]
  },
  {
   "cell_type": "code",
   "execution_count": 7,
   "metadata": {},
   "outputs": [
    {
     "data": {
      "text/html": [
       "<div>\n",
       "<style scoped>\n",
       "    .dataframe tbody tr th:only-of-type {\n",
       "        vertical-align: middle;\n",
       "    }\n",
       "\n",
       "    .dataframe tbody tr th {\n",
       "        vertical-align: top;\n",
       "    }\n",
       "\n",
       "    .dataframe thead th {\n",
       "        text-align: right;\n",
       "    }\n",
       "</style>\n",
       "<table border=\"1\" class=\"dataframe\">\n",
       "  <thead>\n",
       "    <tr style=\"text-align: right;\">\n",
       "      <th></th>\n",
       "      <th>fault_flg</th>\n",
       "    </tr>\n",
       "  </thead>\n",
       "  <tbody>\n",
       "    <tr>\n",
       "      <th>0</th>\n",
       "      <td>False</td>\n",
       "    </tr>\n",
       "    <tr>\n",
       "      <th>1</th>\n",
       "      <td>False</td>\n",
       "    </tr>\n",
       "    <tr>\n",
       "      <th>2</th>\n",
       "      <td>False</td>\n",
       "    </tr>\n",
       "    <tr>\n",
       "      <th>3</th>\n",
       "      <td>False</td>\n",
       "    </tr>\n",
       "    <tr>\n",
       "      <th>5</th>\n",
       "      <td>False</td>\n",
       "    </tr>\n",
       "    <tr>\n",
       "      <th>...</th>\n",
       "      <td>...</td>\n",
       "    </tr>\n",
       "    <tr>\n",
       "      <th>195</th>\n",
       "      <td>False</td>\n",
       "    </tr>\n",
       "    <tr>\n",
       "      <th>196</th>\n",
       "      <td>False</td>\n",
       "    </tr>\n",
       "    <tr>\n",
       "      <th>197</th>\n",
       "      <td>False</td>\n",
       "    </tr>\n",
       "    <tr>\n",
       "      <th>198</th>\n",
       "      <td>False</td>\n",
       "    </tr>\n",
       "    <tr>\n",
       "      <th>199</th>\n",
       "      <td>False</td>\n",
       "    </tr>\n",
       "  </tbody>\n",
       "</table>\n",
       "<p>190 rows × 1 columns</p>\n",
       "</div>"
      ],
      "text/plain": [
       "     fault_flg\n",
       "0        False\n",
       "1        False\n",
       "2        False\n",
       "3        False\n",
       "5        False\n",
       "..         ...\n",
       "195      False\n",
       "196      False\n",
       "197      False\n",
       "198      False\n",
       "199      False\n",
       "\n",
       "[190 rows x 1 columns]"
      ]
     },
     "execution_count": 7,
     "metadata": {},
     "output_type": "execute_result"
    }
   ],
   "source": [
    "test_y.query('not fault_flg')"
   ]
  },
  {
   "cell_type": "markdown",
   "metadata": {},
   "source": [
    "---\n",
    "> 005_split/01_cross_valid"
   ]
  },
  {
   "cell_type": "code",
   "execution_count": 10,
   "metadata": {},
   "outputs": [
    {
     "name": "stdout",
     "output_type": "stream",
     "text": [
      "640(37:603), 160(5:155)\n",
      "640(37:603), 160(5:155)\n",
      "640(30:610), 160(12:148)\n",
      "640(32:608), 160(10:150)\n",
      "640(32:608), 160(10:150)\n"
     ]
    }
   ],
   "source": [
    "for train_cv_index, test_cv_index in KFold(n_splits=5, shuffle=True, random_state=777).split([*range(len(train_y))]):\n",
    "    train_cv_X = train_X.iloc[train_cv_index, :]\n",
    "    test_cv_X  = train_X.iloc[test_cv_index, :]\n",
    "    \n",
    "    train_cv_y = train_y.iloc[train_cv_index,:]\n",
    "    test_cv_y  = train_y.iloc[test_cv_index,:]\n",
    "    \n",
    "    print(f\"{len(train_cv_y)}({len(train_cv_y.query('fault_flg'))}:{len(train_cv_y.query('not fault_flg'))}), \", end=\"\")\n",
    "    print(f\"{len(test_cv_y) }({len(test_cv_y.query('fault_flg')) }:{len(test_cv_y.query('not fault_flg')) })\")"
   ]
  },
  {
   "cell_type": "markdown",
   "metadata": {},
   "source": [
    "- 先ほどと同様にstratifiedなKFoldがある。"
   ]
  },
  {
   "cell_type": "code",
   "execution_count": 11,
   "metadata": {},
   "outputs": [
    {
     "name": "stdout",
     "output_type": "stream",
     "text": [
      "640(34:606), 160(8:152)\n",
      "640(34:606), 160(8:152)\n",
      "640(34:606), 160(8:152)\n",
      "640(33:607), 160(9:151)\n",
      "640(33:607), 160(9:151)\n"
     ]
    }
   ],
   "source": [
    "for train_cv_index, test_cv_index in StratifiedKFold(n_splits=5, shuffle=True, random_state=777).split(X=[*range(len(train_y))], y=train_y):\n",
    "    train_cv_X = train_X.iloc[train_cv_index, :]\n",
    "    test_cv_X  = train_X.iloc[test_cv_index, :]\n",
    "    \n",
    "    train_cv_y = train_y.iloc[train_cv_index,:]\n",
    "    test_cv_y  = train_y.iloc[test_cv_index,:]\n",
    "    \n",
    "    print(f\"{len(train_cv_y)}({len(train_cv_y.query('fault_flg'))}:{len(train_cv_y.query('not fault_flg'))}), \", end=\"\")\n",
    "    print(f\"{len(test_cv_y) }({len(test_cv_y.query('fault_flg')) }:{len(test_cv_y.query('not fault_flg')) })\")"
   ]
  },
  {
   "cell_type": "markdown",
   "metadata": {},
   "source": [
    "---\n",
    "> 005_split/02_time_series_split\n",
    "\n",
    "- これはいろんな案がありそうですね。私は`range`を使いました。\n",
    "- もっといいライブラリがあった気がするが、忘れてしまいました汗"
   ]
  },
  {
   "cell_type": "code",
   "execution_count": 75,
   "metadata": {},
   "outputs": [
    {
     "name": "stdout",
     "output_type": "stream",
     "text": [
      "24 12\n",
      "24 12\n",
      "24 12\n",
      "24 12\n",
      "24 12\n",
      "24 12\n",
      "24 12\n",
      "24 12\n"
     ]
    }
   ],
   "source": [
    "TRAIN_WINDOW_LENGTH = 24\n",
    "TRAIN_SHIFT_LENGTH = 12\n",
    "TEST_WINDOW_LENGTH = 12\n",
    "OFFSET = 0\n",
    "\n",
    "for train_head in range(0, len(monthly_index_tb), SHIFT_LENGTH):\n",
    "    train_head = train_head + OFFSET\n",
    "    train_tail = train_head + TRAIN_WINDOW_LENGTH\n",
    "    \n",
    "    train_data = monthly_index_tb[train_head:train_tail]\n",
    "    \n",
    "    test_head = train_tail\n",
    "    test_tail = test_head + TEST_WINDOW_LENGTH\n",
    "    test_data = monthly_index_tb[test_head:test_tail]\n",
    "    \n",
    "    if len(train_data) < TRAIN_WINDOW_LENGTH \\\n",
    "        or len(test_data) < TEST_WINDOW_LENGTH:\n",
    "        continue\n",
    "    \n",
    "    print(len(train_data), len(test_data))"
   ]
  }
 ],
 "metadata": {
  "kernelspec": {
   "display_name": "Python 3 (ipykernel)",
   "language": "python",
   "name": "python3"
  },
  "language_info": {
   "codemirror_mode": {
    "name": "ipython",
    "version": 3
   },
   "file_extension": ".py",
   "mimetype": "text/x-python",
   "name": "python",
   "nbconvert_exporter": "python",
   "pygments_lexer": "ipython3",
   "version": "3.9.6"
  }
 },
 "nbformat": 4,
 "nbformat_minor": 4
}
