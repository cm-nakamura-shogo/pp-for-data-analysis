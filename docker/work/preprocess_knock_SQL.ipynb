{
 "cells": [
  {
   "cell_type": "markdown",
   "metadata": {},
   "source": [
    "# 前処理大全 SQL版"
   ]
  },
  {
   "cell_type": "markdown",
   "metadata": {},
   "source": [
    "## はじめに\n",
    "- データベースはPostgreSQL13です\n",
    "- 初めに以下のセルを実行してください\n",
    "- セルに %%sql と記載することでSQLを発行することができます\n",
    "- jupyterからはdescribeコマンドによるテーブル構造の確認ができないため、テーブル構造を確認する場合はlimitを指定したSELECTなどで代用してください\n",
    "- 使い慣れたSQLクライアントを使っても問題ありません（接続情報は以下の通り）\n",
    "  - IPアドレス：Docker Desktopの場合はlocalhost、Docker toolboxの場合は192.168.99.100\n",
    "  - Port:5432\n",
    "  - database名: dsdojo_db\n",
    "  - ユーザ名：padawan\n",
    "  - パスワード:padawan12345\n",
    "- 大量出力を行うとJupyterが固まることがあるため、出力件数は制限することを推奨します（設問にも出力件数を記載）\n",
    "    - 結果確認のために表示させる量を適切にコントロールし、作業を軽快にすすめる技術もデータ加工には求められます\n",
    "- 大量結果が出力された場合は、ファイルが重くなり以降開けなくなることもあります\n",
    "    - その場合、作業結果は消えますがファイルをGitHubから取り直してください\n",
    "    - vimエディタなどで大量出力範囲を削除することもできます\n",
    "- 名前、住所等はダミーデータであり、実在するものではありません"
   ]
  },
  {
   "cell_type": "code",
   "execution_count": 2,
   "metadata": {},
   "outputs": [
    {
     "data": {
      "text/plain": [
       "'Connected: padawan@dsdojo_db'"
      ]
     },
     "execution_count": 2,
     "metadata": {},
     "output_type": "execute_result"
    }
   ],
   "source": [
    "%load_ext sql\n",
    "import os\n",
    "\n",
    "pgconfig = {\n",
    "    'host': 'db',\n",
    "    'port': os.environ['PG_PORT'],\n",
    "    'database': os.environ['PG_DATABASE'],\n",
    "    'user': os.environ['PG_USER'],\n",
    "    'password': os.environ['PG_PASSWORD'],\n",
    "}\n",
    "dsl = 'postgresql://{user}:{password}@{host}:{port}/{database}'.format(**pgconfig)\n",
    "\n",
    "# MagicコマンドでSQLを書くための設定\n",
    "%sql $dsl"
   ]
  },
  {
   "cell_type": "markdown",
   "metadata": {},
   "source": [
    "# 演習問題"
   ]
  },
  {
   "cell_type": "markdown",
   "metadata": {},
   "source": [
    "---\n",
    "> サンプル"
   ]
  },
  {
   "cell_type": "code",
   "execution_count": 3,
   "metadata": {},
   "outputs": [
    {
     "name": "stdout",
     "output_type": "stream",
     "text": [
      " * postgresql://padawan:***@db:5432/dsdojo_db\n",
      "10 rows affected.\n"
     ]
    },
    {
     "data": {
      "text/html": [
       "<table>\n",
       "    <thead>\n",
       "        <tr>\n",
       "            <th>reserve_id</th>\n",
       "            <th>hotel_id</th>\n",
       "            <th>customer_id</th>\n",
       "            <th>reserve_datetime</th>\n",
       "            <th>checkin_date</th>\n",
       "            <th>checkin_time</th>\n",
       "            <th>checkout_date</th>\n",
       "            <th>people_num</th>\n",
       "            <th>total_price</th>\n",
       "        </tr>\n",
       "    </thead>\n",
       "    <tbody>\n",
       "        <tr>\n",
       "            <td>r1</td>\n",
       "            <td>h_75</td>\n",
       "            <td>c_1</td>\n",
       "            <td>2016-03-06 13:09:42</td>\n",
       "            <td>2016-03-26</td>\n",
       "            <td>10:00:00</td>\n",
       "            <td>2016-03-29</td>\n",
       "            <td>4</td>\n",
       "            <td>97200</td>\n",
       "        </tr>\n",
       "        <tr>\n",
       "            <td>r2</td>\n",
       "            <td>h_219</td>\n",
       "            <td>c_1</td>\n",
       "            <td>2016-07-16 23:39:55</td>\n",
       "            <td>2016-07-20</td>\n",
       "            <td>11:30:00</td>\n",
       "            <td>2016-07-21</td>\n",
       "            <td>2</td>\n",
       "            <td>20600</td>\n",
       "        </tr>\n",
       "        <tr>\n",
       "            <td>r3</td>\n",
       "            <td>h_179</td>\n",
       "            <td>c_1</td>\n",
       "            <td>2016-09-24 10:03:17</td>\n",
       "            <td>2016-10-19</td>\n",
       "            <td>09:00:00</td>\n",
       "            <td>2016-10-22</td>\n",
       "            <td>2</td>\n",
       "            <td>33600</td>\n",
       "        </tr>\n",
       "        <tr>\n",
       "            <td>r4</td>\n",
       "            <td>h_214</td>\n",
       "            <td>c_1</td>\n",
       "            <td>2017-03-08 03:20:10</td>\n",
       "            <td>2017-03-29</td>\n",
       "            <td>11:00:00</td>\n",
       "            <td>2017-03-30</td>\n",
       "            <td>4</td>\n",
       "            <td>194400</td>\n",
       "        </tr>\n",
       "        <tr>\n",
       "            <td>r5</td>\n",
       "            <td>h_16</td>\n",
       "            <td>c_1</td>\n",
       "            <td>2017-09-05 19:50:37</td>\n",
       "            <td>2017-09-22</td>\n",
       "            <td>10:30:00</td>\n",
       "            <td>2017-09-23</td>\n",
       "            <td>3</td>\n",
       "            <td>68100</td>\n",
       "        </tr>\n",
       "        <tr>\n",
       "            <td>r6</td>\n",
       "            <td>h_241</td>\n",
       "            <td>c_1</td>\n",
       "            <td>2017-11-27 18:47:05</td>\n",
       "            <td>2017-12-04</td>\n",
       "            <td>12:00:00</td>\n",
       "            <td>2017-12-06</td>\n",
       "            <td>3</td>\n",
       "            <td>36000</td>\n",
       "        </tr>\n",
       "        <tr>\n",
       "            <td>r7</td>\n",
       "            <td>h_256</td>\n",
       "            <td>c_1</td>\n",
       "            <td>2017-12-29 10:38:36</td>\n",
       "            <td>2018-01-25</td>\n",
       "            <td>10:30:00</td>\n",
       "            <td>2018-01-28</td>\n",
       "            <td>1</td>\n",
       "            <td>103500</td>\n",
       "        </tr>\n",
       "        <tr>\n",
       "            <td>r8</td>\n",
       "            <td>h_241</td>\n",
       "            <td>c_1</td>\n",
       "            <td>2018-05-26 08:42:51</td>\n",
       "            <td>2018-06-08</td>\n",
       "            <td>10:00:00</td>\n",
       "            <td>2018-06-09</td>\n",
       "            <td>1</td>\n",
       "            <td>6000</td>\n",
       "        </tr>\n",
       "        <tr>\n",
       "            <td>r9</td>\n",
       "            <td>h_217</td>\n",
       "            <td>c_2</td>\n",
       "            <td>2016-03-05 13:31:06</td>\n",
       "            <td>2016-03-25</td>\n",
       "            <td>09:30:00</td>\n",
       "            <td>2016-03-27</td>\n",
       "            <td>3</td>\n",
       "            <td>68400</td>\n",
       "        </tr>\n",
       "        <tr>\n",
       "            <td>r10</td>\n",
       "            <td>h_240</td>\n",
       "            <td>c_2</td>\n",
       "            <td>2016-06-25 09:12:22</td>\n",
       "            <td>2016-07-14</td>\n",
       "            <td>11:00:00</td>\n",
       "            <td>2016-07-17</td>\n",
       "            <td>4</td>\n",
       "            <td>320400</td>\n",
       "        </tr>\n",
       "    </tbody>\n",
       "</table>"
      ],
      "text/plain": [
       "[('r1', 'h_75', 'c_1', datetime.datetime(2016, 3, 6, 13, 9, 42), datetime.date(2016, 3, 26), '10:00:00', datetime.date(2016, 3, 29), 4, 97200),\n",
       " ('r2', 'h_219', 'c_1', datetime.datetime(2016, 7, 16, 23, 39, 55), datetime.date(2016, 7, 20), '11:30:00', datetime.date(2016, 7, 21), 2, 20600),\n",
       " ('r3', 'h_179', 'c_1', datetime.datetime(2016, 9, 24, 10, 3, 17), datetime.date(2016, 10, 19), '09:00:00', datetime.date(2016, 10, 22), 2, 33600),\n",
       " ('r4', 'h_214', 'c_1', datetime.datetime(2017, 3, 8, 3, 20, 10), datetime.date(2017, 3, 29), '11:00:00', datetime.date(2017, 3, 30), 4, 194400),\n",
       " ('r5', 'h_16', 'c_1', datetime.datetime(2017, 9, 5, 19, 50, 37), datetime.date(2017, 9, 22), '10:30:00', datetime.date(2017, 9, 23), 3, 68100),\n",
       " ('r6', 'h_241', 'c_1', datetime.datetime(2017, 11, 27, 18, 47, 5), datetime.date(2017, 12, 4), '12:00:00', datetime.date(2017, 12, 6), 3, 36000),\n",
       " ('r7', 'h_256', 'c_1', datetime.datetime(2017, 12, 29, 10, 38, 36), datetime.date(2018, 1, 25), '10:30:00', datetime.date(2018, 1, 28), 1, 103500),\n",
       " ('r8', 'h_241', 'c_1', datetime.datetime(2018, 5, 26, 8, 42, 51), datetime.date(2018, 6, 8), '10:00:00', datetime.date(2018, 6, 9), 1, 6000),\n",
       " ('r9', 'h_217', 'c_2', datetime.datetime(2016, 3, 5, 13, 31, 6), datetime.date(2016, 3, 25), '09:30:00', datetime.date(2016, 3, 27), 3, 68400),\n",
       " ('r10', 'h_240', 'c_2', datetime.datetime(2016, 6, 25, 9, 12, 22), datetime.date(2016, 7, 14), '11:00:00', datetime.date(2016, 7, 17), 4, 320400)]"
      ]
     },
     "execution_count": 3,
     "metadata": {},
     "output_type": "execute_result"
    }
   ],
   "source": [
    "%%sql\n",
    "SELECT * FROM reserve_tb LIMIT 10;"
   ]
  }
 ],
 "metadata": {
  "kernelspec": {
   "display_name": "Python 3 (ipykernel)",
   "language": "python",
   "name": "python3"
  },
  "language_info": {
   "codemirror_mode": {
    "name": "ipython",
    "version": 3
   },
   "file_extension": ".py",
   "mimetype": "text/x-python",
   "name": "python",
   "nbconvert_exporter": "python",
   "pygments_lexer": "ipython3",
   "version": "3.9.6"
  }
 },
 "nbformat": 4,
 "nbformat_minor": 4
}
